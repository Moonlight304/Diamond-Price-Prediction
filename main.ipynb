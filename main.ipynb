{
 "cells": [
  {
   "cell_type": "code",
   "execution_count": 392,
   "id": "ae91f0ac",
   "metadata": {},
   "outputs": [],
   "source": [
    "import pandas as pd\n",
    "import numpy as np\n",
    "import matplotlib.pyplot as plt "
   ]
  },
  {
   "cell_type": "code",
   "execution_count": 393,
   "id": "32857f56",
   "metadata": {},
   "outputs": [
    {
     "name": "stdout",
     "output_type": "stream",
     "text": [
      "Loading Data...\n",
      "Index(['S.No', 'carat', 'depth', 'table', 'price', 'x', 'y', 'z', 'cut_Good',\n",
      "       'cut_Ideal', 'cut_Premium', 'cut_Very Good', 'color_E', 'color_F',\n",
      "       'color_G', 'color_H', 'color_I', 'color_J', 'clarity_IF', 'clarity_SI1',\n",
      "       'clarity_SI2', 'clarity_VS1', 'clarity_VS2', 'clarity_VVS1',\n",
      "       'clarity_VVS2'],\n",
      "      dtype='object')\n",
      "Loading Complete....\n"
     ]
    }
   ],
   "source": [
    "def load_data() :\n",
    "    print(\"Loading Data...\")\n",
    "    df = pd.read_csv('./diamonds.csv')\n",
    "\n",
    "    # categorical_columns = ['cut', 'color', 'clarity']\n",
    "    # df = pd.get_dummies(df, columns=categorical_columns, drop_first=True, dtype=int)\n",
    "    \n",
    "    df = pd.get_dummies(df, drop_first=True, dtype=int)\n",
    "    print(df.columns)\n",
    "    \n",
    "\n",
    "    # Extract X and y\n",
    "    y = df['price'].to_numpy()\n",
    "    \n",
    "    x = df.drop(columns=['S.No', 'price']).to_numpy()\n",
    "\n",
    "    print(\"Loading Complete....\")\n",
    "    return x, y\n",
    "\n",
    "x, y = load_data()\n"
   ]
  },
  {
   "cell_type": "code",
   "execution_count": 394,
   "id": "4707ea33",
   "metadata": {},
   "outputs": [
    {
     "name": "stdout",
     "output_type": "stream",
     "text": [
      "[[ 1.         -1.19816778 -0.17409151 ... -0.5422949  -0.26960283\n",
      "  -0.32195386]\n",
      " [ 1.         -1.24036126 -1.36073848 ... -0.5422949  -0.26960283\n",
      "  -0.32195386]\n",
      " [ 1.         -1.19816778 -3.3850186  ... -0.5422949  -0.26960283\n",
      "  -0.32195386]\n",
      " ...\n",
      " [ 1.         -0.20662095  0.73334441 ... -0.5422949  -0.26960283\n",
      "  -0.32195386]\n",
      " [ 1.          0.13092691 -0.52310532 ... -0.5422949  -0.26960283\n",
      "  -0.32195386]\n",
      " [ 1.         -0.10113724  0.31452783 ... -0.5422949  -0.26960283\n",
      "  -0.32195386]]\n",
      "Feature scaling done.\n"
     ]
    }
   ],
   "source": [
    "def normalize(x, y):\n",
    "    x_scaled = np.zeros_like(x, dtype=float)\n",
    "\n",
    "    features = x.shape[1]\n",
    "    epsilon = 1e-8\n",
    "    try:\n",
    "        for i in range (features):\n",
    "            x_mean = np.mean(x[:, i])\n",
    "            x_std = np.std(x[:, i])\n",
    "\n",
    "            x_scaled[:, i] = (x[:, i] - x_mean) / (x_std + epsilon)\n",
    "    except :\n",
    "        print(\"Error\")\n",
    "\n",
    "\n",
    "\n",
    "    y_mean = np.mean(y)\n",
    "    y_std = np.std(y)\n",
    "\n",
    "    y = (y - y_mean) / y_std\n",
    "\n",
    "    # Add the bias column (ones) back after scaling\n",
    "    x_scaled = np.hstack([np.ones((x.shape[0], 1)), x_scaled])\n",
    "    print(x_scaled)\n",
    "\n",
    "\n",
    "    \n",
    "    print(\"Feature scaling done.\")\n",
    "    return x_scaled, y, y_mean, y_std\n",
    "\n",
    "x, y, y_mean, y_std = normalize(x, y)\n"
   ]
  },
  {
   "cell_type": "code",
   "execution_count": 395,
   "id": "f5a62edf",
   "metadata": {},
   "outputs": [
    {
     "name": "stdout",
     "output_type": "stream",
     "text": [
      "Before : (53940, 24)\n",
      "After : (53940, 324)\n"
     ]
    }
   ],
   "source": [
    "from sklearn.preprocessing import PolynomialFeatures\n",
    "\n",
    "def polynomial_features(X, degree):\n",
    "    poly = PolynomialFeatures(degree, include_bias=False)\n",
    "    \n",
    "\n",
    "    x_poly = poly.fit_transform(X)\n",
    "\n",
    "    print(f\"Before : {x.shape}\")\n",
    "    print(f\"After : {x_poly.shape}\")\n",
    "\n",
    "    return x_poly\n",
    "\n",
    "    # samples, features = X.shape\n",
    "    # poly_features = [np.ones((samples, 1))]\n",
    "\n",
    "    # # print(poly_features)\n",
    "\n",
    "    # for power in range(1, degree + 1):\n",
    "    #     poly_features.append(X ** power)\n",
    "\n",
    "    # print(np.hstack(poly_features))\n",
    "    # return np.hstack(poly_features)\n",
    "\n",
    "x = polynomial_features(x, 2)"
   ]
  },
  {
   "cell_type": "code",
   "execution_count": 396,
   "id": "d46c1da3",
   "metadata": {},
   "outputs": [
    {
     "name": "stdout",
     "output_type": "stream",
     "text": [
      "Data split for training and testing\n"
     ]
    }
   ],
   "source": [
    "def split_data(x, y):\n",
    "    tot_rows = x.shape[0]\n",
    "    indices = np.random.choice(tot_rows, size=int(0.8 * tot_rows), replace=False)\n",
    "\n",
    "    x_train = x[indices]\n",
    "    y_train = y[indices]\n",
    "\n",
    "    x_test = np.delete(x, indices, axis=0)\n",
    "    y_test = np.delete(y, indices, axis=0)\n",
    "\n",
    "    print('Data split for training and testing')\n",
    "\n",
    "    return x_train, y_train, x_test, y_test\n",
    "\n",
    "x_train, y_train, x_test, y_test = split_data(x, y)\n"
   ]
  },
  {
   "cell_type": "code",
   "execution_count": 397,
   "id": "7de8fd95",
   "metadata": {},
   "outputs": [],
   "source": [
    "def compute_error(pred_y, y_train):\n",
    "    error_vector = np.subtract(pred_y, y_train)\n",
    "    error_vector = np.square(error_vector)\n",
    "\n",
    "    mean_error = np.mean(error_vector)\n",
    "    return mean_error"
   ]
  },
  {
   "cell_type": "code",
   "execution_count": 398,
   "id": "87ac8eb8",
   "metadata": {},
   "outputs": [],
   "source": [
    "def model(W, X):\n",
    "    pred_y = np.dot(X, W)\n",
    "    \n",
    "    return pred_y"
   ]
  },
  {
   "cell_type": "code",
   "execution_count": 399,
   "id": "dd6cb68a",
   "metadata": {},
   "outputs": [
    {
     "name": "stdout",
     "output_type": "stream",
     "text": [
      "Variables initialised\n",
      "Random Weights :\n",
      "[8.10813721e-03 1.11268858e-03 6.91275716e-03 1.78169544e-03\n",
      " 2.59645499e-03 1.19161335e-03 5.22646959e-03 3.30620156e-03\n",
      " 8.00279950e-03 3.27623779e-03 3.89570477e-03 6.73252616e-03\n",
      " 9.78594759e-03 1.52345393e-04 8.20260169e-03 8.19492360e-03\n",
      " 5.39876157e-03 9.90813076e-03 1.40176821e-03 8.29243278e-03\n",
      " 8.26056020e-03 8.30559585e-03 8.06242372e-03 5.58959429e-03\n",
      " 5.82194001e-03 5.74589222e-04 4.24322212e-03 7.84795497e-03\n",
      " 1.09795616e-03 1.43670125e-03 2.87391642e-03 9.73408385e-03\n",
      " 7.24815590e-03 3.26799904e-03 4.41131532e-03 2.51928410e-03\n",
      " 4.18356520e-03 4.00917693e-03 1.36197899e-03 8.37685571e-04\n",
      " 3.40456886e-04 9.88134872e-03 1.84425658e-03 1.70643374e-03\n",
      " 9.04853708e-03 4.08520796e-03 1.93183247e-03 5.60834305e-03\n",
      " 9.58944297e-03 9.28191372e-03 5.51728546e-03 7.63301307e-03\n",
      " 8.81108507e-03 2.33748057e-03 9.57584145e-04 4.63879261e-04\n",
      " 1.82343241e-03 4.19815723e-03 4.43976308e-03 8.74804817e-03\n",
      " 9.73550733e-03 9.63155863e-03 4.13450760e-03 1.14808449e-03\n",
      " 8.59561847e-03 4.16563573e-03 4.56901383e-03 3.65045007e-03\n",
      " 5.46745717e-03 5.59490324e-03 2.17340453e-04 4.52985115e-03\n",
      " 4.85619001e-03 2.17106521e-03 5.39461109e-04 7.49350424e-03\n",
      " 3.10623674e-04 5.14581416e-04 6.29016100e-03 3.11984999e-03\n",
      " 4.55472032e-03 1.04502831e-03 8.92611756e-03 1.36211830e-03\n",
      " 7.29393975e-03 2.10403240e-03 8.39393969e-03 6.11349068e-03\n",
      " 4.46792426e-03 3.57768583e-03 6.18893682e-03 3.14428306e-03\n",
      " 9.19111888e-03 3.49783731e-03 9.96644892e-03 8.60467659e-03\n",
      " 9.54300120e-03 3.20608381e-03 8.00909980e-03 8.26363878e-03\n",
      " 4.27787708e-03 3.60215764e-04 1.14065133e-04 9.21848221e-03\n",
      " 7.92988297e-03 2.66631940e-04 7.83496469e-03 6.15713346e-03\n",
      " 6.44477403e-03 5.63501018e-03 4.36604174e-03 1.66453416e-03\n",
      " 9.62351073e-03 4.59274863e-03 1.52077096e-03 6.97338514e-03\n",
      " 7.78464217e-03 6.17115040e-03 7.73522539e-03 5.60074245e-03\n",
      " 7.82262302e-03 1.04018020e-03 9.12355624e-03 9.63790194e-04\n",
      " 4.32055009e-03 8.77612443e-03 9.31861597e-03 8.87318956e-03\n",
      " 2.32458860e-04 1.72112377e-04 7.56410374e-03 7.16872401e-03\n",
      " 8.34382455e-03 3.79057370e-03 2.49343440e-03 4.42105425e-03\n",
      " 5.29928170e-03 5.77081717e-03 8.34269814e-03 9.35407227e-03\n",
      " 5.93176956e-03 5.22582592e-03 5.63222020e-03 8.49652896e-03\n",
      " 5.88971007e-03 6.20214218e-03 3.18310455e-03 9.74829395e-03\n",
      " 2.03684053e-03 7.22374340e-03 2.70897085e-03 3.79456094e-03\n",
      " 7.53985634e-03 9.49250504e-03 3.11036708e-03 2.46814222e-03\n",
      " 3.23059266e-03 6.38129482e-03 5.77804086e-03 6.94918397e-03\n",
      " 4.02894836e-03 8.60358965e-03 9.11296655e-03 1.04677929e-03\n",
      " 6.22482650e-04 7.76898904e-03 1.79042413e-05 8.00972768e-03\n",
      " 7.27387159e-03 2.42004990e-03 5.23592540e-03 7.05472999e-03\n",
      " 5.17868373e-03 3.11169692e-03 2.38993405e-03 9.07733789e-03\n",
      " 7.66270288e-03 8.85157875e-03 9.38072870e-03 8.14268082e-03\n",
      " 9.13859914e-03 2.92075667e-03 7.24573459e-03 5.64476648e-03\n",
      " 3.42935256e-03 3.10825100e-03 9.80183665e-03 9.70013186e-03\n",
      " 5.98732250e-03 1.70475862e-03 6.29141122e-03 9.90632051e-03\n",
      " 4.24927036e-03 5.29024463e-03 3.23829637e-04 3.04819055e-03\n",
      " 4.28757286e-03 6.76999641e-05 1.01111055e-03 2.96965615e-03\n",
      " 7.21953355e-03 4.00941680e-03 8.46639152e-03 5.35136243e-03\n",
      " 4.20128792e-03 1.28565790e-03 6.10346221e-03 9.98897656e-03\n",
      " 4.21720127e-03 9.31100246e-03 8.59591617e-03 9.07191029e-03\n",
      " 7.22666777e-03 9.27608525e-03 5.84940976e-03 1.96153020e-03\n",
      " 4.21972767e-03 8.04595871e-03 3.49832889e-03 1.11220643e-04\n",
      " 3.17874948e-03 5.29228975e-03 5.42724906e-03 9.56322001e-03\n",
      " 1.77720200e-03 6.38787333e-03 8.40636126e-04 9.00157291e-03\n",
      " 2.94140228e-04 1.49226931e-03 7.82849347e-03 7.46533776e-03\n",
      " 3.98865401e-05 1.38966384e-03 7.56474997e-03 9.97179032e-03\n",
      " 5.01858615e-03 7.59121294e-03 2.60799875e-04 4.76215090e-03\n",
      " 2.22588599e-03 5.49181223e-03 9.48216507e-03 5.55243958e-03\n",
      " 9.91309369e-04 4.42151700e-03 6.32960671e-03 2.82149584e-03\n",
      " 3.90760919e-03 3.93876551e-03 3.92204310e-03 2.35540098e-03\n",
      " 4.57634963e-03 2.04532945e-03 5.00553270e-03 4.91610655e-03\n",
      " 4.80782539e-03 7.61880286e-03 5.44066714e-03 6.20495781e-03\n",
      " 1.57491791e-03 9.13224931e-03 6.33116161e-03 8.66543468e-03\n",
      " 7.09905761e-03 5.52718550e-03 7.32657669e-03 2.13281382e-03\n",
      " 1.37714137e-03 5.02453591e-04 9.03949951e-03 8.43748171e-03\n",
      " 8.68785316e-03 4.55008960e-04 4.68550946e-03 6.06692716e-03\n",
      " 6.80267331e-03 7.65972353e-03 2.58528950e-03 9.15694961e-03\n",
      " 5.53920759e-03 3.72183014e-04 2.87252141e-03 4.12348289e-04\n",
      " 4.83352879e-03 3.32502577e-04 7.59442245e-03 1.92651906e-03\n",
      " 7.09709676e-03 3.37441444e-03 6.44548486e-03 3.56495819e-03\n",
      " 8.58321802e-03 3.55352185e-03 1.11109558e-03 5.30367008e-03\n",
      " 1.35861263e-03 6.49952095e-04 9.93036338e-03 9.50325971e-03\n",
      " 7.36338612e-03 4.92878255e-03 6.28490030e-03 5.21212344e-04\n",
      " 5.85975284e-03 3.29463107e-03 7.34893492e-03 5.09486178e-03\n",
      " 8.75159769e-03 5.80122128e-03 9.28321386e-03 9.60701851e-03\n",
      " 7.98532238e-03 1.09069039e-03 8.58670395e-03 3.40429825e-03\n",
      " 2.13363175e-03 6.62249684e-03 4.59836339e-03 3.27805815e-03\n",
      " 9.50223909e-03 7.27860156e-03 7.30707247e-03 4.24398582e-03]\n",
      "(53940, 324)\n"
     ]
    }
   ],
   "source": [
    "no_of_features = x.shape[1]\n",
    "W = np.random.rand(no_of_features) * 0.01\n",
    "epochs = 600\n",
    "learning_rate = 0.0009\n",
    "lambda_parameter = 0.001\n",
    "\n",
    "beta1 = 0.9\n",
    "beta2 = 0.98\n",
    "epsilon = 1e-8\n",
    "\n",
    "print('Variables initialised')\n",
    "print(\"Random Weights :\")\n",
    "print(W)\n",
    "\n",
    "print(x.shape)"
   ]
  },
  {
   "cell_type": "code",
   "execution_count": 400,
   "id": "f06e7217",
   "metadata": {},
   "outputs": [
    {
     "name": "stdout",
     "output_type": "stream",
     "text": [
      "Running ADAM : \n",
      "epoch : 1\n",
      "epoch : 50\n",
      "epoch : 100\n",
      "epoch : 150\n",
      "epoch : 200\n",
      "epoch : 250\n",
      "epoch : 300\n",
      "epoch : 350\n",
      "epoch : 400\n",
      "epoch : 450\n",
      "epoch : 500\n",
      "epoch : 550\n",
      "epoch : 600\n"
     ]
    }
   ],
   "source": [
    "def adam_optimiser(W, x_train, y_train, epochs, beta1, beta2, epsilon, learning_rate, lambda_parameter):\n",
    "    print(\"Running ADAM : \")\n",
    "\n",
    "\n",
    "    m = np.zeros_like(W)\n",
    "    v = np.zeros_like(W)\n",
    "\n",
    "    error_over_time = []\n",
    "\n",
    "    for i in range (1, epochs + 1):\n",
    "        pred_y = model(W, x_train)\n",
    "\n",
    "        mean_error = compute_error(pred_y, y_train)\n",
    "        error_over_time.append(mean_error)\n",
    "\n",
    "        gradient = (2 / x_train.shape[0]) * np.dot(x_train.T, (pred_y - y_train)) + (2 * lambda_parameter * W)\n",
    "\n",
    "        m = beta1 * m + (1 - beta1) * gradient\n",
    "        v = beta2 * v + (1 - beta2) * (gradient ** 2)\n",
    "\n",
    "        m_hat = m / (1 - beta1 ** i)\n",
    "        v_hat = v / (1 - beta2 ** i)\n",
    "\n",
    "        W = W - learning_rate * (m_hat / (np.sqrt(v_hat) + epsilon))\n",
    "\n",
    "        if (i % 50 == 0 or i == 1 or i == epochs):\n",
    "            print(f'epoch : {i}')\n",
    "\n",
    "    return W, error_over_time\n",
    "\n",
    "W, error_over_time = adam_optimiser(W, x_train, y_train, epochs, beta1, beta2, epsilon, learning_rate, lambda_parameter)"
   ]
  },
  {
   "cell_type": "code",
   "execution_count": 401,
   "id": "329e9daa",
   "metadata": {},
   "outputs": [],
   "source": [
    "def gradient_descent(W, x_train, y_train, epochs, learning_rate):\n",
    "    print(\"Running gradient descent : \")\n",
    "    error_over_time = []\n",
    "\n",
    "    for i in range (epochs):\n",
    "        pred_y = model(W, x_train)\n",
    "\n",
    "        mean_error = compute_error(pred_y, y_train)\n",
    "        error_over_time.append(mean_error)\n",
    "\n",
    "        gradient = (2 / x_train.shape[0]) * np.dot(x_train.T, (pred_y - y_train))\n",
    "\n",
    "        # print(gradient.shape)\n",
    "        # print(gradient)\n",
    "\n",
    "        W = W - learning_rate * gradient\n",
    "\n",
    "        if (i % 100 == 0 or i == epochs - 1):\n",
    "            print(f'epoch : {i}')\n",
    "\n",
    "    return W, error_over_time\n",
    "\n",
    "# W, error_over_time = gradient_descent(W, x_train, y_train, epochs, learning_rate)\n",
    "    "
   ]
  },
  {
   "cell_type": "code",
   "execution_count": 402,
   "id": "416ad40e",
   "metadata": {},
   "outputs": [
    {
     "name": "stdout",
     "output_type": "stream",
     "text": [
      "Plotting Error :\n"
     ]
    },
    {
     "data": {
      "image/png": "[encoded data removed]",
      "text/plain": [
       "<Figure size 640x480 with 1 Axes>"
      ]
     },
     "metadata": {},
     "output_type": "display_data"
    }
   ],
   "source": [
    "def plot_error():\n",
    "    print(\"Plotting Error :\")\n",
    "    x_axis = np.arange(epochs)\n",
    "    y_axis = error_over_time\n",
    "\n",
    "    plt.plot(x_axis, y_axis)\n",
    "    plt.xlabel(\"Epochs\")\n",
    "    plt.ylabel(\"Mean Error\")\n",
    "    plt.title(\"Error over time\")\n",
    "    plt.grid(True)\n",
    "    \n",
    "    plt.show()\n",
    "\n",
    "\n",
    "plot_error()"
   ]
  },
  {
   "cell_type": "code",
   "execution_count": 403,
   "id": "f9d66218",
   "metadata": {},
   "outputs": [
    {
     "name": "stdout",
     "output_type": "stream",
     "text": [
      "Mean Squared Error : 510923.25108463597\n",
      "Mean Absolute Error : 421.32078440162206\n",
      "R2 Score : 0.9687309038319147\n"
     ]
    }
   ],
   "source": [
    "from sklearn.metrics import mean_squared_error, mean_absolute_error, r2_score\n",
    "\n",
    "def test_accuracy(W, x_test, y_test):\n",
    "    pred_y = model(W, x_test)\n",
    "\n",
    "    pred_y_norm = model(W, x_test)\n",
    "    \n",
    "    # Denormalize predictions\n",
    "    pred_y = pred_y_norm * y_std + y_mean\n",
    "    y_test = y_test * y_std + y_mean\n",
    "\n",
    "    mse = mean_squared_error(y_test, pred_y)\n",
    "    mae = mean_absolute_error(y_test, pred_y)\n",
    "    r2 = r2_score(y_test, pred_y)\n",
    "\n",
    "    print(f\"Mean Squared Error : {mse}\")\n",
    "    print(f\"Mean Absolute Error : {mae}\")\n",
    "    print(f\"R2 Score : {r2}\")\n",
    "    \n",
    "test_accuracy(W, x_test, y_test)"
   ]
  },
  {
   "cell_type": "code",
   "execution_count": 404,
   "id": "87cd9a4b",
   "metadata": {},
   "outputs": [
    {
     "name": "stdout",
     "output_type": "stream",
     "text": [
      "Model saved successfully.\n"
     ]
    }
   ],
   "source": [
    "import pickle\n",
    "\n",
    "def save_data():\n",
    "    model_data = {\n",
    "        'weights': W,\n",
    "    }\n",
    "\n",
    "    with open('diamond_prediction.pkl', 'wb') as f:\n",
    "        pickle.dump(model_data, f)\n",
    "    \n",
    "    print(\"Model saved successfully.\")\n",
    "\n",
    "save_data()"
   ]
  }
 ],
 "metadata": {
  "kernelspec": {
   "display_name": "Python 3",
   "language": "python",
   "name": "python3"
  },
  "language_info": {
   "codemirror_mode": {
    "name": "ipython",
    "version": 3
   },
   "file_extension": ".py",
   "mimetype": "text/x-python",
   "name": "python",
   "nbconvert_exporter": "python",
   "pygments_lexer": "ipython3",
   "version": "3.13.2"
  }
 },
 "nbformat": 4,
 "nbformat_minor": 5
}
