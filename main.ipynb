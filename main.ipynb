{
 "cells": [
  {
   "cell_type": "code",
   "execution_count": 177,
   "id": "ae91f0ac",
   "metadata": {},
   "outputs": [],
   "source": [
    "import pandas as pd\n",
    "import numpy as np\n",
    "import matplotlib.pyplot as plt "
   ]
  },
  {
   "cell_type": "code",
   "execution_count": 178,
   "id": "32857f56",
   "metadata": {},
   "outputs": [
    {
     "name": "stdout",
     "output_type": "stream",
     "text": [
      "Loading Data...\n",
      "Loading Complete....\n"
     ]
    }
   ],
   "source": [
    "def load_data() :\n",
    "    print(\"Loading Data...\")\n",
    "    df = pd.read_csv('./diamonds.csv')\n",
    "\n",
    "    categorical_columns = ['cut', 'color', 'clarity']\n",
    "    df = pd.get_dummies(df, columns=categorical_columns, drop_first=True, dtype=int)\n",
    "    \n",
    "    # print(df.columns)\n",
    "\n",
    "    y = df['price'].to_numpy()\n",
    "    \n",
    "    x = df.drop(columns=['S.No', 'price']).to_numpy()\n",
    "    x = np.hstack([np.ones((x.shape[0], 1)), x])\n",
    "\n",
    "    print(\"Loading Complete....\")\n",
    "    return x, y\n",
    "\n",
    "x, y = load_data()\n"
   ]
  },
  {
   "cell_type": "code",
   "execution_count": 179,
   "id": "4707ea33",
   "metadata": {},
   "outputs": [
    {
     "name": "stdout",
     "output_type": "stream",
     "text": [
      "Feature scaling done.\n"
     ]
    }
   ],
   "source": [
    "from sklearn.preprocessing import StandardScaler\n",
    "\n",
    "\n",
    "def normalize(x, y):\n",
    "    x_no_bias = x[:, 1:]\n",
    "\n",
    "    scaler = StandardScaler()\n",
    "    x_scaled = scaler.fit_transform(x_no_bias)\n",
    "\n",
    "    y_mean = np.mean(y)\n",
    "    y_std = np.std(y)\n",
    "\n",
    "    y = (y - y_mean) / y_std\n",
    "\n",
    "    # Add the bias column (ones) back after scaling\n",
    "    x = np.hstack([np.ones((x.shape[0], 1)), x_scaled])\n",
    "\n",
    "    print(\"Feature scaling done.\")\n",
    "    return x, y, y_mean, y_std\n",
    "\n",
    "x, y, y_mean, y_std = normalize(x, y)\n"
   ]
  },
  {
   "cell_type": "code",
   "execution_count": 180,
   "id": "d46c1da3",
   "metadata": {},
   "outputs": [
    {
     "name": "stdout",
     "output_type": "stream",
     "text": [
      "Data split for training and testing\n"
     ]
    }
   ],
   "source": [
    "def split_data(x, y):\n",
    "    tot_rows = x.shape[0]\n",
    "    indices = np.random.choice(tot_rows, size=int(0.8 * tot_rows), replace=False)\n",
    "\n",
    "    x_train = x[indices]\n",
    "    y_train = y[indices]\n",
    "\n",
    "    x_test = np.delete(x, indices, axis=0)\n",
    "    y_test = np.delete(y, indices, axis=0)\n",
    "\n",
    "    print('Data split for training and testing')\n",
    "\n",
    "    return x_train, y_train, x_test, y_test\n",
    "\n",
    "x_train, y_train, x_test, y_test = split_data(x, y)\n"
   ]
  },
  {
   "cell_type": "code",
   "execution_count": 181,
   "id": "87ac8eb8",
   "metadata": {},
   "outputs": [],
   "source": [
    "def model(W, X):\n",
    "    pred_y = np.dot(X, W)\n",
    "\n",
    "    # print(W.shape)\n",
    "    # print(x_train.shape)\n",
    "    # print(pred_y)\n",
    "    return pred_y"
   ]
  },
  {
   "cell_type": "code",
   "execution_count": 182,
   "id": "7de8fd95",
   "metadata": {},
   "outputs": [],
   "source": [
    "def compute_error(pred_y, y_train):\n",
    "    error_vector = np.subtract(pred_y, y_train)\n",
    "    error_vector = np.square(error_vector)\n",
    "\n",
    "    mean_error = np.mean(error_vector)\n",
    "    return mean_error"
   ]
  },
  {
   "cell_type": "code",
   "execution_count": 183,
   "id": "dd6cb68a",
   "metadata": {},
   "outputs": [
    {
     "name": "stdout",
     "output_type": "stream",
     "text": [
      "Variables initialised\n",
      "Random Weights :\n",
      "[0.00498231 0.00430803 0.00979966 0.00379843 0.00493216 0.00208084\n",
      " 0.0007437  0.00206752 0.00430288 0.00084899 0.0079578  0.00889705\n",
      " 0.00668405 0.00862517 0.00801159 0.00512309 0.00092717 0.00274591\n",
      " 0.0043236  0.00370366 0.00291848 0.0036279  0.00657974 0.00335055]\n"
     ]
    }
   ],
   "source": [
    "\n",
    "degree = x.shape[1]\n",
    "W = np.random.rand(degree) * 0.01\n",
    "epochs = 5000\n",
    "learning_rate = 0.001\n",
    "\n",
    "print('Variables initialised')\n",
    "print(\"Random Weights :\")\n",
    "print(W)"
   ]
  },
  {
   "cell_type": "code",
   "execution_count": 184,
   "id": "f06e7217",
   "metadata": {},
   "outputs": [
    {
     "name": "stdout",
     "output_type": "stream",
     "text": [
      "Running ADAM : \n",
      "epoch : 1\n"
     ]
    },
    {
     "name": "stdout",
     "output_type": "stream",
     "text": [
      "epoch : 100\n",
      "epoch : 200\n",
      "epoch : 300\n",
      "epoch : 400\n",
      "epoch : 500\n",
      "epoch : 600\n",
      "epoch : 700\n",
      "epoch : 800\n",
      "epoch : 900\n",
      "epoch : 1000\n",
      "epoch : 1100\n",
      "epoch : 1200\n",
      "epoch : 1300\n",
      "epoch : 1400\n",
      "epoch : 1500\n",
      "epoch : 1600\n",
      "epoch : 1700\n",
      "epoch : 1800\n",
      "epoch : 1900\n",
      "epoch : 2000\n",
      "epoch : 2100\n",
      "epoch : 2200\n",
      "epoch : 2300\n",
      "epoch : 2400\n",
      "epoch : 2500\n",
      "epoch : 2600\n",
      "epoch : 2700\n",
      "epoch : 2800\n",
      "epoch : 2900\n",
      "epoch : 3000\n",
      "epoch : 3100\n",
      "epoch : 3200\n",
      "epoch : 3300\n",
      "epoch : 3400\n",
      "epoch : 3500\n",
      "epoch : 3600\n",
      "epoch : 3700\n",
      "epoch : 3800\n",
      "epoch : 3900\n",
      "epoch : 4000\n",
      "epoch : 4100\n",
      "epoch : 4200\n",
      "epoch : 4300\n",
      "epoch : 4400\n",
      "epoch : 4500\n",
      "epoch : 4600\n",
      "epoch : 4700\n",
      "epoch : 4800\n",
      "epoch : 4900\n",
      "epoch : 5000\n"
     ]
    }
   ],
   "source": [
    "def adam_optimiser(W, x_train, y_train, epochs, learning_rate):\n",
    "    print(\"Running ADAM : \")\n",
    "\n",
    "    beta1 = 0.9\n",
    "    beta2 = 0.999\n",
    "    epsilon = 1e-8\n",
    "\n",
    "    m = np.zeros_like(W)\n",
    "    v = np.zeros_like(W)\n",
    "\n",
    "    error_over_time = []\n",
    "\n",
    "    for i in range (1, epochs + 1):\n",
    "        pred_y = model(W, x_train)\n",
    "\n",
    "        mean_error = compute_error(pred_y, y_train)\n",
    "        error_over_time.append(mean_error)\n",
    "\n",
    "        gradient = (2 / x_train.shape[0]) * np.dot(x_train.T, (pred_y - y_train))\n",
    "\n",
    "        m = beta1 * m + (1 - beta1) * gradient\n",
    "        v = beta2 * v + (1 - beta2) * (gradient ** 2)\n",
    "\n",
    "        m_hat = m / (1 - beta1 ** i)\n",
    "        v_hat = v / (1 - beta2 ** i)\n",
    "\n",
    "        W = W - learning_rate * (m_hat / (np.sqrt(v_hat) + epsilon))\n",
    "\n",
    "        if (i % 100 == 0 or i == 1 or i == epochs):\n",
    "            print(f'epoch : {i}')\n",
    "\n",
    "    return W, error_over_time\n",
    "\n",
    "W, error_over_time = adam_optimiser(W, x_train, y_train, epochs, learning_rate)"
   ]
  },
  {
   "cell_type": "code",
   "execution_count": 185,
   "id": "329e9daa",
   "metadata": {},
   "outputs": [],
   "source": [
    "def gradient_descent(W, x_train, y_train, epochs, learning_rate):\n",
    "    print(\"Running gradient descent : \")\n",
    "    error_over_time = []\n",
    "\n",
    "    for i in range (epochs):\n",
    "        pred_y = model(W, x_train)\n",
    "\n",
    "        mean_error = compute_error(pred_y, y_train)\n",
    "        error_over_time.append(mean_error)\n",
    "\n",
    "        gradient = (2 / x_train.shape[0]) * np.dot(x_train.T, (pred_y - y_train))\n",
    "\n",
    "        # print(gradient.shape)\n",
    "        # print(gradient)\n",
    "\n",
    "        W = W - learning_rate * gradient\n",
    "\n",
    "        if (i % 100 == 0 or i == epochs - 1):\n",
    "            print(f'epoch : {i}')\n",
    "\n",
    "    return W, error_over_time\n",
    "\n",
    "# W, error_over_time = gradient_descent(W, x_train, y_train, epochs, learning_rate)\n",
    "    "
   ]
  },
  {
   "cell_type": "code",
   "execution_count": 186,
   "id": "416ad40e",
   "metadata": {},
   "outputs": [
    {
     "name": "stdout",
     "output_type": "stream",
     "text": [
      "Plotting Error :\n"
     ]
    },
    {
     "data": {
      "image/png": "[encoded data removed]",
      "text/plain": [
       "<Figure size 640x480 with 1 Axes>"
      ]
     },
     "metadata": {},
     "output_type": "display_data"
    }
   ],
   "source": [
    "def plot_error(error_over_time):\n",
    "    print(\"Plotting Error :\")\n",
    "    x_axis = np.arange(epochs)\n",
    "    y_axis = error_over_time\n",
    "\n",
    "    plt.plot(x_axis, y_axis)\n",
    "    plt.xlabel(\"Epochs\")\n",
    "    plt.ylabel(\"Error\")\n",
    "    plt.title(\"Error over time\")\n",
    "    plt.grid(True)\n",
    "    \n",
    "    plt.show()\n",
    "\n",
    "\n",
    "plot_error(error_over_time)"
   ]
  },
  {
   "cell_type": "code",
   "execution_count": 187,
   "id": "f9d66218",
   "metadata": {},
   "outputs": [
    {
     "name": "stdout",
     "output_type": "stream",
     "text": [
      "Mean Squared Error : 1267122.0114992245\n",
      "Mean Absolute Error : 757.4082732436934\n",
      "R2 Score : 0.9204169055578669\n"
     ]
    }
   ],
   "source": [
    "from sklearn.metrics import mean_squared_error, mean_absolute_error, r2_score\n",
    "\n",
    "def test_accuracy(W, x_test, y_test):\n",
    "    pred_y = model(W, x_test)\n",
    "\n",
    "    pred_y_norm = model(W, x_test)\n",
    "    \n",
    "    # Denormalize predictions\n",
    "    pred_y = pred_y_norm * y_std + y_mean\n",
    "    y_test = y_test * y_std + y_mean\n",
    "\n",
    "    mse = mean_squared_error(y_test, pred_y)\n",
    "    mae = mean_absolute_error(y_test, pred_y)\n",
    "    r2 = r2_score(y_test, pred_y)\n",
    "\n",
    "    print(f\"Mean Squared Error : {mse}\")\n",
    "    print(f\"Mean Absolute Error : {mae}\")\n",
    "    print(f\"R2 Score : {r2}\")\n",
    "    \n",
    "test_accuracy(W, x_test, y_test)"
   ]
  },
  {
   "cell_type": "code",
   "execution_count": 189,
   "id": "87cd9a4b",
   "metadata": {},
   "outputs": [
    {
     "name": "stdout",
     "output_type": "stream",
     "text": [
      "Model saved successfully.\n"
     ]
    }
   ],
   "source": [
    "import pickle\n",
    "\n",
    "def save_data():\n",
    "    model_data = {\n",
    "        'weights': W,\n",
    "    }\n",
    "\n",
    "    with open('diamond_prediction.pkl', 'wb') as f:\n",
    "        pickle.dump(model_data, f)\n",
    "    \n",
    "    print(\"Model saved successfully.\")\n",
    "\n",
    "save_data()"
   ]
  }
 ],
 "metadata": {
  "kernelspec": {
   "display_name": "Python 3",
   "language": "python",
   "name": "python3"
  },
  "language_info": {
   "codemirror_mode": {
    "name": "ipython",
    "version": 3
   },
   "file_extension": ".py",
   "mimetype": "text/x-python",
   "name": "python",
   "nbconvert_exporter": "python",
   "pygments_lexer": "ipython3",
   "version": "3.13.2"
  }
 },
 "nbformat": 4,
 "nbformat_minor": 5
}
